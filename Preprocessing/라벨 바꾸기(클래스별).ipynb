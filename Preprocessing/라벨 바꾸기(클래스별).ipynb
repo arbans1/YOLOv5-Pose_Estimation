{
 "cells": [
  {
   "cell_type": "code",
   "execution_count": 22,
   "metadata": {
    "ExecuteTime": {
     "end_time": "2020-11-05T13:53:18.903036Z",
     "start_time": "2020-11-05T13:53:18.901036Z"
    }
   },
   "outputs": [],
   "source": [
    "from glob import glob\n",
    "import os\n",
    "import shutil"
   ]
  },
  {
   "cell_type": "code",
   "execution_count": 24,
   "metadata": {
    "ExecuteTime": {
     "end_time": "2020-11-05T13:54:29.798928Z",
     "start_time": "2020-11-05T13:54:18.435228Z"
    }
   },
   "outputs": [],
   "source": [
    "dir = '운동/'\n",
    "class_name = os.listdir(dir)\n",
    "\n",
    "if not os.path.exists(dir+'integ'):\n",
    "        os.mkdir(dir+'integ')\n",
    "\n",
    "for i in range(len(class_name)):\n",
    "    label_dir = dir+class_name[i]\n",
    "    label_list = glob(label_dir+'/*.txt')\n",
    "    idx = label_list.index(label_dir+'\\\\'+'classes.txt')\n",
    "    label_list.pop(idx)\n",
    "    for label in label_list:\n",
    "        with open(label, 'r') as f:\n",
    "            data = f.readlines()\n",
    "        with open(label, 'w') as f:\n",
    "            for d in data:\n",
    "                d = f\"{i}\"+d[1:]\n",
    "                f.write(d)\n",
    "    all_files = glob(label_dir+'/*')\n",
    "    for file in all_files:\n",
    "        shutil.copy(file, dir+'integ/')\n",
    "\n",
    "\n",
    "with open(dir+'integ/'+'classes.txt', 'w') as f:\n",
    "    f.write('\\n'.join(class_name))"
   ]
  },
  {
   "cell_type": "code",
   "execution_count": null,
   "metadata": {},
   "outputs": [],
   "source": []
  }
 ],
 "metadata": {
  "kernelspec": {
   "display_name": "Python 3",
   "language": "python",
   "name": "python3"
  },
  "language_info": {
   "codemirror_mode": {
    "name": "ipython",
    "version": 3
   },
   "file_extension": ".py",
   "mimetype": "text/x-python",
   "name": "python",
   "nbconvert_exporter": "python",
   "pygments_lexer": "ipython3",
   "version": "3.7.9"
  }
 },
 "nbformat": 4,
 "nbformat_minor": 4
}
