{
 "cells": [
  {
   "cell_type": "code",
   "execution_count": 44,
   "metadata": {
    "ExecuteTime": {
     "end_time": "2020-11-05T13:14:30.794923Z",
     "start_time": "2020-11-05T13:14:30.791923Z"
    }
   },
   "outputs": [],
   "source": [
    "from glob import glob"
   ]
  },
  {
   "cell_type": "code",
   "execution_count": 57,
   "metadata": {
    "ExecuteTime": {
     "end_time": "2020-11-05T13:25:18.781481Z",
     "start_time": "2020-11-05T13:25:18.779480Z"
    }
   },
   "outputs": [],
   "source": [
    "label_dir = './운동/dead lift/'"
   ]
  },
  {
   "cell_type": "code",
   "execution_count": 58,
   "metadata": {
    "ExecuteTime": {
     "end_time": "2020-11-05T13:25:21.402080Z",
     "start_time": "2020-11-05T13:25:19.196574Z"
    },
    "scrolled": true
   },
   "outputs": [],
   "source": [
    "txt = '*.txt'\n",
    "label_list = glob(label_dir+txt)\n",
    "idx = label_list.index(label_dir[:-1]+'\\\\'+'classes.txt')\n",
    "label_list.pop(idx)\n",
    "\n",
    "for label in label_list:\n",
    "    with open(label, 'r') as f:\n",
    "        data = f.readlines()\n",
    "    with open(label, 'w') as f:\n",
    "        for d in data:\n",
    "            d = \"0\"+d[1:]\n",
    "            f.write(d)"
   ]
  },
  {
   "cell_type": "code",
   "execution_count": null,
   "metadata": {},
   "outputs": [],
   "source": []
  }
 ],
 "metadata": {
  "kernelspec": {
   "display_name": "Python 3",
   "language": "python",
   "name": "python3"
  },
  "language_info": {
   "codemirror_mode": {
    "name": "ipython",
    "version": 3
   },
   "file_extension": ".py",
   "mimetype": "text/x-python",
   "name": "python",
   "nbconvert_exporter": "python",
   "pygments_lexer": "ipython3",
   "version": "3.7.9"
  }
 },
 "nbformat": 4,
 "nbformat_minor": 4
}
