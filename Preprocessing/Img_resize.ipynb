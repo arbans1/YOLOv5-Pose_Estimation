{
 "cells": [
  {
   "cell_type": "code",
   "execution_count": 2,
   "metadata": {
    "ExecuteTime": {
     "end_time": "2020-11-04T09:06:44.648870Z",
     "start_time": "2020-11-04T09:06:40.866655Z"
    }
   },
   "outputs": [],
   "source": [
    "from PIL import Image\n",
    "import os\n",
    "\n",
    "dir = './데드리프트/'\n",
    "imgs = os.listdir(dir)\n",
    "\n",
    "for img in imgs:\n",
    "    try:\n",
    "        source_image = (dir+img)\n",
    "        image = Image.open(source_image)\n",
    "        resize_image = image.resize((416,416))\n",
    "        resize_image.save(source_image)\n",
    "    except:\n",
    "        pass"
   ]
  },
  {
   "cell_type": "code",
   "execution_count": null,
   "metadata": {},
   "outputs": [],
   "source": []
  }
 ],
 "metadata": {
  "kernelspec": {
   "display_name": "Python 3",
   "language": "python",
   "name": "python3"
  },
  "language_info": {
   "codemirror_mode": {
    "name": "ipython",
    "version": 3
   },
   "file_extension": ".py",
   "mimetype": "text/x-python",
   "name": "python",
   "nbconvert_exporter": "python",
   "pygments_lexer": "ipython3",
   "version": "3.7.9"
  }
 },
 "nbformat": 4,
 "nbformat_minor": 4
}
