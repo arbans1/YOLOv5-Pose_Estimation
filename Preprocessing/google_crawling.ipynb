{
 "cells": [
  {
   "cell_type": "code",
   "execution_count": 1,
   "metadata": {
    "ExecuteTime": {
     "end_time": "2020-10-14T02:25:34.114485Z",
     "start_time": "2020-10-14T02:25:32.857034Z"
    }
   },
   "outputs": [],
   "source": [
    "from selenium import webdriver\n",
    "import pandas as pd\n",
    "import numpy as np\n",
    "from selenium.webdriver.common.keys import Keys\n",
    "from selenium.common.exceptions import ElementNotInteractableException, ElementClickInterceptedException, NoSuchElementException\n",
    "import time\n",
    "from bs4 import BeautifulSoup\n",
    "from konlpy.tag import Okt\n",
    "import re\n",
    "from urllib.request import urlopen, urlretrieve\n",
    "import os"
   ]
  },
  {
   "cell_type": "code",
   "execution_count": 2,
   "metadata": {
    "ExecuteTime": {
     "end_time": "2020-10-14T02:25:34.120466Z",
     "start_time": "2020-10-14T02:25:34.116492Z"
    }
   },
   "outputs": [],
   "source": [
    "#셀레니움 크롬 옵션\n",
    "options = webdriver.ChromeOptions()\n",
    "# options.add_argument('headless')      # 브라우저를 열 수 있음 - headless는 안연다는 것.\n",
    "options.add_argument('--no-sandbox')\n",
    "options.add_argument('--disable-dev-shm-usage')\n",
    "options.add_argument('disable-gpu')\n",
    "options.add_argument('lang=ko_KR')\n",
    "options.add_argument(\"--mute-audio\")"
   ]
  },
  {
   "cell_type": "code",
   "execution_count": 3,
   "metadata": {
    "ExecuteTime": {
     "end_time": "2020-10-14T02:25:37.953108Z",
     "start_time": "2020-10-14T02:25:34.501190Z"
    }
   },
   "outputs": [],
   "source": [
    "driver = webdriver.Chrome('./chromedriver.exe', options=options)"
   ]
  },
  {
   "cell_type": "code",
   "execution_count": 8,
   "metadata": {
    "ExecuteTime": {
     "end_time": "2020-10-08T08:51:45.057123Z",
     "start_time": "2020-10-08T08:51:45.050136Z"
    }
   },
   "outputs": [],
   "source": [
    "찾을것 = '파전'\n",
    "\n",
    "# 소스코드가 있는 경로에 '검색어' 폴더가 없으면 만들어준다.(이미지 저장 폴더를 위해서) \n",
    "if not os.path.exists(f\"{찾을것}\"):\n",
    "    os.mkdir(f\"{찾을것}\")"
   ]
  },
  {
   "cell_type": "code",
   "execution_count": 9,
   "metadata": {
    "ExecuteTime": {
     "end_time": "2020-10-08T08:51:47.448399Z",
     "start_time": "2020-10-08T08:51:45.059111Z"
    }
   },
   "outputs": [],
   "source": [
    "driver.get('https://www.google.co.kr/imghp?hl=ko&tab=wi&ogbl')\n",
    "search = driver.find_element_by_name('q')\n",
    "search.send_keys(f\"{찾을것}\")  # 키워드 검색\n",
    "search.send_keys(Keys.ENTER) # 엔터 클릭\n",
    "time.sleep(0.3) #딜레이"
   ]
  },
  {
   "cell_type": "code",
   "execution_count": 10,
   "metadata": {
    "ExecuteTime": {
     "end_time": "2020-10-08T08:52:07.237075Z",
     "start_time": "2020-10-08T08:51:47.454391Z"
    }
   },
   "outputs": [
    {
     "name": "stdout",
     "output_type": "stream",
     "text": [
      "100\n",
      "200\n",
      "300\n",
      "400\n",
      "400\n",
      "500\n",
      "500\n"
     ]
    }
   ],
   "source": [
    "body = driver.find_element_by_tag_name('body')\n",
    "stop_count=0\n",
    "while True:\n",
    "    if stop_count == 3:\n",
    "        break\n",
    "    last_len = len(driver.find_elements_by_class_name('bRMDJf.islir'))\n",
    "    body.send_keys(Keys.PAGE_DOWN)\n",
    "    body.send_keys(Keys.PAGE_DOWN)\n",
    "    body.send_keys(Keys.PAGE_DOWN)\n",
    "    body.send_keys(Keys.PAGE_DOWN)\n",
    "    body.send_keys(Keys.PAGE_DOWN)\n",
    "    body.send_keys(Keys.PAGE_DOWN)\n",
    "    body.send_keys(Keys.PAGE_DOWN)\n",
    "    if stop_count == 0:\n",
    "        time.sleep(0.5)\n",
    "    elif stop_count == 1:\n",
    "        time.sleep(1)\n",
    "        print(new_len)\n",
    "    elif stop_count == 2:\n",
    "        time.sleep(3)\n",
    "        print(new_len)\n",
    "    new_len = len(driver.find_elements_by_class_name('bRMDJf.islir'))\n",
    "    try:\n",
    "        driver.find_element_by_class_name('YstHxe').click()\n",
    "    except:\n",
    "        pass\n",
    "    if last_len == new_len :\n",
    "        stop_count += 1\n",
    "    elif last_len != new_len :\n",
    "        stop_count = 0\n",
    "    elif len(driver.find_elements_by_class_name('bRMDJf.islir')) >= 2500:\n",
    "        break"
   ]
  },
  {
   "cell_type": "code",
   "execution_count": 12,
   "metadata": {
    "ExecuteTime": {
     "end_time": "2020-10-08T08:57:33.833031Z",
     "start_time": "2020-10-08T08:55:51.942539Z"
    }
   },
   "outputs": [],
   "source": [
    "soup = BeautifulSoup(driver.page_source, 'html.parser')\n",
    "\n",
    "img = soup.find_all('img')\n",
    "n = 1\n",
    "for i in img:\n",
    "    try:\n",
    "        link = i.get('src')\n",
    "        urlretrieve(link, f\"./{찾을것}/{찾을것}{n}.jpg\")\n",
    "        n+=1\n",
    "    except:\n",
    "        pass"
   ]
  },
  {
   "cell_type": "code",
   "execution_count": null,
   "metadata": {},
   "outputs": [],
   "source": []
  },
  {
   "cell_type": "code",
   "execution_count": null,
   "metadata": {},
   "outputs": [],
   "source": []
  }
 ],
 "metadata": {
  "kernelspec": {
   "display_name": "Python 3",
   "language": "python",
   "name": "python3"
  },
  "language_info": {
   "codemirror_mode": {
    "name": "ipython",
    "version": 3
   },
   "file_extension": ".py",
   "mimetype": "text/x-python",
   "name": "python",
   "nbconvert_exporter": "python",
   "pygments_lexer": "ipython3",
   "version": "3.7.7"
  }
 },
 "nbformat": 4,
 "nbformat_minor": 4
}
